{
  "nbformat": 4,
  "nbformat_minor": 0,
  "metadata": {
    "colab": {
      "name": "Machine Learning classifiers.ipynb",
      "provenance": [],
      "authorship_tag": "ABX9TyNE6TjbailwPWSLh7+QOYMG",
      "include_colab_link": true
    },
    "kernelspec": {
      "name": "python3",
      "display_name": "Python 3"
    }
  },
  "cells": [
    {
      "cell_type": "markdown",
      "metadata": {
        "id": "view-in-github",
        "colab_type": "text"
      },
      "source": [
        "<a href=\"https://colab.research.google.com/github/RSD18/Machine-Learning-Classifiers/blob/master/Machine_Learning_classifiers.ipynb\" target=\"_parent\"><img src=\"https://colab.research.google.com/assets/colab-badge.svg\" alt=\"Open In Colab\"/></a>"
      ]
    },
    {
      "cell_type": "code",
      "metadata": {
        "id": "eAHCQ6bMgV6q",
        "colab_type": "code",
        "colab": {
          "base_uri": "https://localhost:8080/",
          "height": 1000
        },
        "outputId": "3ce006b5-9f76-4868-bc13-4ece8194a7d1"
      },
      "source": [
        "import numpy as np\n",
        "import pandas as pd\n",
        "from matplotlib import pyplot as plt\n",
        "from sklearn.datasets import load_breast_cancer\n",
        "from sklearn.metrics import confusion_matrix\n",
        "from sklearn.linear_model import SGDClassifier\n",
        "smx=SGDClassifier()\n",
        "from sklearn.neighbors import KNeighborsClassifier\n",
        "from sklearn.linear_model import LinearRegression\n",
        "from sklearn.linear_model import LogisticRegression\n",
        "from sklearn.tree import DecisionTreeClassifier\n",
        "from sklearn.cluster import KMeans\n",
        "from sklearn.ensemble import RandomForestRegressor\n",
        "from sklearn.svm import SVC\n",
        "from sklearn.naive_bayes import GaussianNB\n",
        "from xgboost import XGBClassifier\n",
        "from sklearn.ensemble import GradientBoostingClassifier\n",
        "from sklearn.metrics import accuracy_score\n",
        "from sklearn.preprocessing import StandardScaler\n",
        "from sklearn.preprocessing import OneHotEncoder\n",
        "from sklearn.model_selection import train_test_split\n",
        "import seaborn as sns\n",
        "\n",
        "sns.set()\n",
        "\n",
        "breast_cancer = load_breast_cancer()\n",
        "# print(breast_cancer)\n",
        "X = pd.DataFrame(breast_cancer.data, columns=breast_cancer.feature_names)\n",
        "print(X.head())\n",
        "\n",
        "print(X.isnull().any().sum())\n",
        "\n",
        "# print(X.describe())\n",
        "X = X[['mean area', 'mean compactness']]\n",
        "# print(X)\n",
        "\n",
        "\n",
        "y = pd.Categorical.from_codes(breast_cancer.target, breast_cancer.target_names)\n",
        "y = pd.get_dummies(y, drop_first=True)\n",
        "print(y.isnull().any().sum())\n",
        "print(y) \n",
        "X_train, X_test, y_train, y_test = train_test_split(X, y, random_state=1, test_size = 0.2)\n",
        "\n",
        "lr=LogisticRegression()\n",
        "lr.fit(X_train,y_train)\n",
        "y_pred_1=lr.predict(X_test)\n",
        "knn = KNeighborsClassifier(n_neighbors=5, metric='euclidean')\n",
        "knn.fit(X_train, y_train)\n",
        "y_pred_2 = knn.predict(X_test)\n",
        "de_gi= DecisionTreeClassifier(criterion = \"gini\", random_state = 100,\n",
        "                               max_depth=2, min_samples_leaf=5)\n",
        "de_gi.fit(X_train, y_train)\n",
        "y_pred_3=de_gi.predict(X_test)\n",
        "km=KMeans(n_clusters=2)\n",
        "km.fit(X_train,y_train)\n",
        "y_pred_4=km.predict(X_test)\n",
        "rf = RandomForestRegressor()\n",
        "rf.fit(X_train,y_train)\n",
        "y_pred_5=rf.predict(X_test)\n",
        "y_pred_5 = [int(round(p)) for p in y_pred_5]\n",
        "sv=SVC(kernel='poly')\n",
        "sv.fit(X_train,y_train)\n",
        "y_pred_6=sv.predict(X_test)\n",
        "# df=pd.DataFrame({'Actual': y_test, 'Predicted': y_pred_9})\n",
        "# print(df)\n",
        "xgb_1=XGBClassifier()\n",
        "xgb_1.fit(X_train,y_train)\n",
        "y_pred_7=xgb_1.predict(X_test)\n",
        "gb_1=GradientBoostingClassifier()\n",
        "gb_1.fit(X_train,y_train)\n",
        "y_pred_8=gb_1.predict(X_test)\n",
        "# print(y_test['benign'].to_list())\n",
        "gnb_1=GaussianNB()\n",
        "gnb_1.fit(X_train,y_train)\n",
        "y_pred_9=gnb_1.predict(X_test)\n",
        "# print(confusion_matrix(y_test,y_pred))\n",
        "print(\"1 \",accuracy_score(y_test,y_pred_1))\n",
        "print(\"2 \" ,accuracy_score(y_test,y_pred_2))\n",
        "print(\"3 \",accuracy_score(y_test,y_pred_3))\n",
        "print(\"4 \",accuracy_score(y_test,y_pred_4))\n",
        "print(\"5 \",accuracy_score(y_test,y_pred_5))\n",
        "print(\"6 \",accuracy_score(y_test,y_pred_6))\n",
        "print(\"7 \",accuracy_score(y_test,y_pred_7))\n",
        "print(\"8 \",accuracy_score(y_test,y_pred_8))\n",
        "print(\"9 \",accuracy_score(y_test,y_pred_9))\n",
        "  \n",
        "# plt.scatter(range(len(y_pred)),[int(round(p)) for p in y_pred])\n",
        "# plt.scatter(X['mean area'], X['mean compactness'],marker=\"*\")\n",
        "# sns.relplot(x='mean area',y='mean compactness',hue='target_names',data=breast_cancer)\n",
        "# np.array(y_test.to_list()\n",
        "# plt.scatter(\n",
        "#     X_test['mean area'],\n",
        "#     X_test['mean compactness'],\n",
        "#     c=y_pred,\n",
        "#     cmap='coolwarm',\n",
        "#     alpha=0.7\n",
        "# )\n",
        "# y_pred=pd.Dataframe(data=[['accuracy_score(y_test,y_pred_1)'],['accuracy_score(y_test,y_pred_2)']])\n",
        "# sns.scatterplot(\n",
        "#     x='mean area',\n",
        "#     y='mean compactness',\n",
        "#     hue='benign',\n",
        "#     data=X_test.join(y_test, how='outer')\n",
        "# )\n",
        "obj=['y_1','y_2','y_3','y_4','y_5','y_6','y_7','y_8','y_9']\n",
        "# x_pos=np.arange(len(obj))\n",
        "accu=[accuracy_score(y_test,y_pred_1)*100,accuracy_score(y_test,y_pred_2)*100,accuracy_score(y_test,y_pred_3)*100,accuracy_score(y_test,y_pred_4)*100,accuracy_score(y_test,y_pred_5)*100,accuracy_score(y_test,y_pred_6)*100,accuracy_score(y_test,y_pred_7)*100,accuracy_score(y_test,y_pred_8)*100,accuracy_score(y_test,y_pred_9)*100]\n",
        "# plt.bar(y_pos, accu, align='center',width=0.6)\n",
        "# plt.yticks()\n",
        "# plt.xticks(x_pos, obj)\n",
        "# plt.ylabel('accuracy')\n",
        "# plt.show()\n",
        "fig_dims = (20, 10)\n",
        "# fig, ax = plt.subplots(figsize=fig_dims)\n",
        "plt.figure(figsize=fig_dims)\n",
        "# sns.barplot(obj,accu,dodge=False)\n",
        "plt.bar(obj,accu,width=.8)\n",
        "plt.show()"
      ],
      "execution_count": 1,
      "outputs": [
        {
          "output_type": "stream",
          "text": [
            "/usr/local/lib/python3.6/dist-packages/statsmodels/tools/_testing.py:19: FutureWarning: pandas.util.testing is deprecated. Use the functions in the public API at pandas.testing instead.\n",
            "  import pandas.util.testing as tm\n",
            "/usr/local/lib/python3.6/dist-packages/sklearn/utils/validation.py:760: DataConversionWarning: A column-vector y was passed when a 1d array was expected. Please change the shape of y to (n_samples, ), for example using ravel().\n",
            "  y = column_or_1d(y, warn=True)\n",
            "/usr/local/lib/python3.6/dist-packages/ipykernel_launcher.py:48: DataConversionWarning: A column-vector y was passed when a 1d array was expected. Please change the shape of y to (n_samples, ), for example using ravel().\n",
            "/usr/local/lib/python3.6/dist-packages/ipykernel_launcher.py:58: DataConversionWarning: A column-vector y was passed when a 1d array was expected. Please change the shape of y to (n_samples,), for example using ravel().\n"
          ],
          "name": "stderr"
        },
        {
          "output_type": "stream",
          "text": [
            "   mean radius  mean texture  ...  worst symmetry  worst fractal dimension\n",
            "0        17.99         10.38  ...          0.4601                  0.11890\n",
            "1        20.57         17.77  ...          0.2750                  0.08902\n",
            "2        19.69         21.25  ...          0.3613                  0.08758\n",
            "3        11.42         20.38  ...          0.6638                  0.17300\n",
            "4        20.29         14.34  ...          0.2364                  0.07678\n",
            "\n",
            "[5 rows x 30 columns]\n",
            "0\n",
            "0\n",
            "     benign\n",
            "0         0\n",
            "1         0\n",
            "2         0\n",
            "3         0\n",
            "4         0\n",
            "..      ...\n",
            "564       0\n",
            "565       0\n",
            "566       0\n",
            "567       0\n",
            "568       1\n",
            "\n",
            "[569 rows x 1 columns]\n"
          ],
          "name": "stdout"
        },
        {
          "output_type": "stream",
          "text": [
            "/usr/local/lib/python3.6/dist-packages/sklearn/utils/validation.py:760: DataConversionWarning: A column-vector y was passed when a 1d array was expected. Please change the shape of y to (n_samples, ), for example using ravel().\n",
            "  y = column_or_1d(y, warn=True)\n",
            "/usr/local/lib/python3.6/dist-packages/sklearn/preprocessing/_label.py:235: DataConversionWarning: A column-vector y was passed when a 1d array was expected. Please change the shape of y to (n_samples, ), for example using ravel().\n",
            "  y = column_or_1d(y, warn=True)\n",
            "/usr/local/lib/python3.6/dist-packages/sklearn/preprocessing/_label.py:268: DataConversionWarning: A column-vector y was passed when a 1d array was expected. Please change the shape of y to (n_samples, ), for example using ravel().\n",
            "  y = column_or_1d(y, warn=True)\n",
            "/usr/local/lib/python3.6/dist-packages/sklearn/ensemble/_gb.py:1454: DataConversionWarning: A column-vector y was passed when a 1d array was expected. Please change the shape of y to (n_samples, ), for example using ravel().\n",
            "  y = column_or_1d(y, warn=True)\n",
            "/usr/local/lib/python3.6/dist-packages/sklearn/naive_bayes.py:206: DataConversionWarning: A column-vector y was passed when a 1d array was expected. Please change the shape of y to (n_samples, ), for example using ravel().\n",
            "  y = column_or_1d(y, warn=True)\n"
          ],
          "name": "stderr"
        },
        {
          "output_type": "stream",
          "text": [
            "1  0.8771929824561403\n",
            "2  0.8421052631578947\n",
            "3  0.8947368421052632\n",
            "4  0.20175438596491227\n",
            "5  0.8947368421052632\n",
            "6  0.8771929824561403\n",
            "7  0.8947368421052632\n",
            "8  0.8947368421052632\n",
            "9  0.9122807017543859\n"
          ],
          "name": "stdout"
        },
        {
          "output_type": "display_data",
          "data": {
            "image/png": "[encoded data removed]",
            "text/plain": [
              "<Figure size 1440x720 with 1 Axes>"
            ]
          },
          "metadata": {
            "tags": []
          }
        }
      ]
    },
    {
      "cell_type": "code",
      "metadata": {
        "id": "XGheS9FAgf4E",
        "colab_type": "code",
        "colab": {}
      },
      "source": [
        "  import pandas as pd \n",
        "import numpy as np \n",
        "import matplotlib.pyplot as plt \n",
        "from sklearn.preprocessing import LabelEncoder\n",
        "from sklearn.preprocessing import StandardScaler;\n",
        "data = pd.read_csv(\"https://media.geeksforgeeks.org/wp-content/uploads/nba.csv\") \n",
        "data.head()\n",
        "data=data.dropna()\n",
        "data.head()\n",
        "# data=pd.get_dummies(data[['Name','Number','Weight','Salary']])\n",
        "print(data)\n",
        "# data.apply(lambda x: float(x[]) )\n",
        "# x=data[['Salary','Weight']]\n",
        "# y=data[['Name','Weight']]\n",
        "# std=StandardScaler().fit(x)\n",
        "# x=std.transform(x)\n",
        "# print(x)\n",
        "# df_cat = pd.DataFrame(data = \n",
        "#                      [['green','M',10.1,'class1'],\n",
        "#                       ['blue','L',20.1,'class2'],\n",
        "#                       ['white','M',30.1,'class1']])\n",
        "# df_cat.columns = ['color','size','price','classlabel']\n",
        "# size_mapping = {'M':1,'L':2}\n",
        "# print(df_cat)\n",
        "# df_cat['size'] = df_cat['size'].map(size_mapping)\n",
        "# class_le = LabelEncoder()\n",
        "# df_cat['classlabel'] =class_le.fit_transform(df_cat['classlabel'].values)\n",
        "# df_cat = pd.get_dummies(df_cat[['color','size','price','classlabel']],drop_first=True)\n",
        "# df_cat\n"
      ],
      "execution_count": 0,
      "outputs": []
    }
  ]
}